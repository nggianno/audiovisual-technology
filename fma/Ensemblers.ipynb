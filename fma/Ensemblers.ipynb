{
 "cells": [
  {
   "cell_type": "code",
   "execution_count": 1,
   "metadata": {},
   "outputs": [],
   "source": [
    "%matplotlib inline\n",
    "\n",
    "import IPython.display as ipd\n",
    "import numpy as np\n",
    "import pandas as pd\n",
    "import matplotlib.pyplot as plt\n",
    "import seaborn as sns\n",
    "from sklearn.preprocessing import MultiLabelBinarizer\n",
    "\n",
    "import utils\n",
    "\n",
    "sns.set_context(\"notebook\", font_scale=1.5)\n",
    "plt.rcParams['figure.figsize'] = (17, 5)"
   ]
  },
  {
   "cell_type": "markdown",
   "metadata": {},
   "source": [
    "# Reading the data from FMA"
   ]
  },
  {
   "cell_type": "code",
   "execution_count": 70,
   "metadata": {},
   "outputs": [
    {
     "name": "stderr",
     "output_type": "stream",
     "text": [
      "C:\\Users\\anast\\Anaconda3\\lib\\site-packages\\IPython\\core\\interactiveshell.py:3057: DtypeWarning: Columns (0,1,5,6,8,12,18,20,21,22,24,33,34,38,39,44,47,49) have mixed types. Specify dtype option on import or set low_memory=False.\n",
      "  interactivity=interactivity, compiler=compiler, result=result)\n",
      "C:\\Users\\anast\\Anaconda3\\lib\\site-packages\\IPython\\core\\interactiveshell.py:3057: DtypeWarning: Columns (0,1,2,3,4,5,6,7,8,9,10,11,12,13,14,15,16,17,18,19,20,21,22,23,24,25,26,27,28,29,30,31,32,33,34,35,36,37,38,39,40,41,42,43,44,45,46,47,48,49,50,51,52,53,54,55,56,57,58,59,60,61,62,63,64,65,66,67,68,69,70,71,72,73,74,75,76,77,78,79,80,81,82,83,84,85,86,87,88,89,90,91,92,93,94,95,96,97,98,99,100,101,102,103,104,105,106,107,108,109,110,111,112,113,114,115,116,117,118,119,120,121,122,123,124,125,126,127,128,129,130,131,132,133,134,135,136,137,138,139,140,141,142,143,144,145,146,147,148,149,150,151,152,153,154,155,156,157,158,159,160,161,162,163,164,165,166,167,168,169,170,171,172,173,174,175,176,177,178,179,180,181,182,183,184,185,186,187,188,189,190,191,192,193,194,195,196,197,198,199,200,201,202,203,204,205,206,207,208,209,210,211,212,213,214,215,216,217,218,219,220,221,222,223,224,225,226,227,228,229,230,231,232,233,234,235,236,237,238,239,240,241,242,243,244,245,246,247,248,249,250,251,252,253,254,255,256,257,258,259,260,261,262,263,264,265,266,267,268,269,270,271,272,273,274,275,276,277,278,279,280,281,282,283,284,285,286,287,288,289,290,291,292,293,294,295,296,297,298,299,300,301,302,303,304,305,306,307,308,309,310,311,312,313,314,315,316,317,318,319,320,321,322,323,324,325,326,327,328,329,330,331,332,333,334,335,336,337,338,339,340,341,342,343,344,345,346,347,348,349,350,351,352,353,354,355,356,357,358,359,360,361,362,363,364,365,366,367,368,369,370,371,372,373,374,375,376,377,378,379,380,381,382,383,384,385,386,387,388,389,390,391,392,393,394,395,396,397,398,399,400,401,402,403,404,405,406,407,408,409,410,411,412,413,414,415,416,417,418,419,420,421,422,423,424,425,426,427,428,429,430,431,432,433,434,435,436,437,438,439,440,441,442,443,444,445,446,447,448,449,450,451,452,453,454,455,456,457,458,459,460,461,462,463,464,465,466,467,468,469,470,471,472,473,474,475,476,477,478,479,480,481,482,483,484,485,486,487,488,489,490,491,492,493,494,495,496,497,498,499,500,501,502,503,504,505,506,507,508,509,510,511,512,513,514,515,516,517,518) have mixed types. Specify dtype option on import or set low_memory=False.\n",
      "  interactivity=interactivity, compiler=compiler, result=result)\n",
      "C:\\Users\\anast\\Anaconda3\\lib\\site-packages\\IPython\\core\\interactiveshell.py:3057: DtypeWarning: Columns (0,1,2,3,4,5,6,7,8,11,13,16,17,18,19,20,21,22,23,24,25,26,27,28,29,30,31,32,33,34,35,36,37,38,39,40,41,42,43,44,45,46,47,48,49,50,51,52,53,54,55,56,57,58,59,60,61,62,63,64,65,66,67,68,69,70,71,72,73,74,75,76,77,78,79,80,81,82,83,84,85,86,87,88,89,90,91,92,93,94,95,96,97,98,99,100,101,102,103,104,105,106,107,108,109,110,111,112,113,114,115,116,117,118,119,120,121,122,123,124,125,126,127,128,129,130,131,132,133,134,135,136,137,138,139,140,141,142,143,144,145,146,147,148,149,150,151,152,153,154,155,156,157,158,159,160,161,162,163,164,165,166,167,168,169,170,171,172,173,174,175,176,177,178,179,180,181,182,183,184,185,186,187,188,189,190,191,192,193,194,195,196,197,198,199,200,201,202,203,204,205,206,207,208,209,210,211,212,213,214,215,216,217,218,219,220,221,222,223,224,225,226,227,228,229,230,231,232,233,234,235,236,237,238,239,240,241,242,243,244,245,246,247,248,249) have mixed types. Specify dtype option on import or set low_memory=False.\n",
      "  interactivity=interactivity, compiler=compiler, result=result)\n"
     ]
    }
   ],
   "source": [
    "#tracks = utils.load('tracks.csv')\n",
    "#genres = utils.load('genres.csv')\n",
    "#features = utils.load('features.csv')\n",
    "#echonest = utils.load('echonest.csv')\n",
    "\n",
    "tracks = pd.read_csv('tracks.csv')\n",
    "genres = pd.read_csv('genres.csv')\n",
    "features = pd.read_csv('features.csv')\n",
    "echonest = pd.read_csv('echonest.csv')\n",
    "\n",
    "#np.testing.assert_array_equal(features.index, tracks.index)\n",
    "#assert echonest.index.isin(tracks.index).all()\n",
    "\n",
    "#tracks.shape, genres.shape, features.shape, echonest.shape"
   ]
  },
  {
   "cell_type": "markdown",
   "metadata": {},
   "source": [
    "# Preproccessing"
   ]
  },
  {
   "cell_type": "code",
   "execution_count": 71,
   "metadata": {},
   "outputs": [],
   "source": [
    "tracklist=tracks.loc[0,:]\n",
    "tracks.columns=tracklist\n",
    "tracks=tracks.loc[2:,:]\n",
    "tracks.rename(columns={tracks.columns[0]: \"track_id\"}, inplace=True)\n",
    "echonest.rename(columns={echonest.columns[0]: \"track_id\"}, inplace=True)\n",
    "features.rename(columns={features.columns[0]: \"track_id\"}, inplace=True)"
   ]
  },
  {
   "cell_type": "code",
   "execution_count": 73,
   "metadata": {},
   "outputs": [],
   "source": [
    "listft=features.loc[0,:]=='mean'\n",
    "listft['track_id']=True\n",
    "listft=features.loc[0,listft]\n",
    "desired_feat=features.loc[:,listft.index]\n",
    "desired_feat=desired_feat.loc[3:,:]\n",
    "desired_feat=desired_feat.drop(desired_feat.loc[:,'chroma_cens.24':'chroma_stft.35'],axis=1)"
   ]
  },
  {
   "cell_type": "code",
   "execution_count": 75,
   "metadata": {},
   "outputs": [],
   "source": [
    "listecho=echonest.loc[1,:]\n",
    "listecho[0]='track_id'\n",
    "echo=echonest.loc[3:,:]\n",
    "echo.columns=listecho"
   ]
  },
  {
   "cell_type": "code",
   "execution_count": 83,
   "metadata": {},
   "outputs": [
    {
     "name": "stdout",
     "output_type": "stream",
     "text": [
      "1st step :\n",
      " Rock                   11127\n",
      "Experimental            9072\n",
      "Electronic              7718\n",
      "Hip-Hop                 2991\n",
      "Folk                    2141\n",
      "Pop                     1994\n",
      "Instrumental            1936\n",
      "International           1128\n",
      "Classical               1039\n",
      "Jazz                     385\n",
      "Spoken                   344\n",
      "Old-Time / Historic      215\n",
      "Soul-RnB                 157\n",
      "Country                  103\n",
      "Blues                     58\n",
      "Easy Listening            23\n",
      "Name: genre_top, dtype: int64\n",
      "2nd step :\n",
      " Rock                   11127\n",
      "Experimental            9072\n",
      "Electronic              7718\n",
      "Hip-Hop                 2991\n",
      "Folk                    2141\n",
      "Pop                     1994\n",
      "Instrumental            1936\n",
      "International           1128\n",
      "Classical               1039\n",
      "Jazz                     385\n",
      "Spoken                   344\n",
      "Old-Time / Historic      215\n",
      "Soul-RnB                 157\n",
      "Country                  103\n",
      "Blues                     58\n",
      "Easy Listening            23\n",
      "Name: genre_top, dtype: int64\n"
     ]
    },
    {
     "data": {
      "text/plain": [
       "Index(['genre_top', 'mfcc.40', 'mfcc.41', 'mfcc.42', 'mfcc.43', 'mfcc.44',\n",
       "       'mfcc.45', 'mfcc.46', 'mfcc.47', 'mfcc.48', 'mfcc.49', 'mfcc.50',\n",
       "       'mfcc.51', 'mfcc.52', 'mfcc.53', 'mfcc.54', 'mfcc.55', 'mfcc.56',\n",
       "       'mfcc.57', 'mfcc.58', 'mfcc.59', 'rmse.2', 'spectral_bandwidth.2',\n",
       "       'spectral_centroid.2', 'spectral_contrast.14', 'spectral_contrast.15',\n",
       "       'spectral_contrast.16', 'spectral_contrast.17', 'spectral_contrast.18',\n",
       "       'spectral_contrast.19', 'spectral_contrast.20', 'spectral_rolloff.2',\n",
       "       'tonnetz.12', 'tonnetz.13', 'tonnetz.14', 'tonnetz.15', 'tonnetz.16',\n",
       "       'tonnetz.17', 'zcr.2'],\n",
       "      dtype='object')"
      ]
     },
     "execution_count": 83,
     "metadata": {},
     "output_type": "execute_result"
    }
   ],
   "source": [
    "clean_tracks = tracks[['track_id',\"genre_top\"]] \n",
    "clean_tracks.drop(clean_tracks.index[0], inplace=True)\n",
    "\n",
    "# Do you want merge with features? Uncomment the next line\n",
    "clean_tracks = clean_tracks.merge(desired_feat,on=\"track_id\",how=\"inner\")\n",
    "# Here we have at least 1000 songs \"Classical\" if you choose to merge\n",
    "frequencies = clean_tracks['genre_top'].value_counts()\n",
    "print(\"1st step :\\n\",frequencies)  \n",
    "# Do you want merge with echonest? Uncomment the next line \n",
    "# clean_tracks = clean_tracks.merge(echonest,on=\"track_id\",how=\"inner\")\n",
    " \n",
    "frequencies = clean_tracks['genre_top'].value_counts()\n",
    "print(\"2nd step :\\n\",frequencies) \n",
    "     \n",
    "clean_tracks= clean_tracks.sample(frac=1).reset_index(drop=True)\n",
    "     \n",
    "#  selected_genres :\n",
    "# 'Pop','Rock','Hip-Hop','Classical'\n",
    "max_tracks_each_genre = 1000 # choose how many songs you will \n",
    "classical = clean_tracks[clean_tracks['genre_top'] == 'Classical'].head(max_tracks_each_genre)\n",
    "rock = clean_tracks[clean_tracks['genre_top'] == 'Rock'].head(max_tracks_each_genre)\n",
    "hip_hop = clean_tracks[clean_tracks['genre_top'] == 'Hip-Hop'].head(max_tracks_each_genre)\n",
    "pop = clean_tracks[clean_tracks['genre_top'] == 'Pop'].head(max_tracks_each_genre)\n",
    "# append each to our final dataset \n",
    "     \n",
    "final_dataset = pd.DataFrame()\n",
    "final_dataset = final_dataset.append([classical,hip_hop,rock,pop])\n",
    "final_dataset = final_dataset.drop('track_id',axis=1)\n",
    "\n",
    "y=final_dataset['genre_top']\n",
    "X=final_dataset.drop('genre_top',axis=1)\n",
    "\n",
    "final_dataset.columns"
   ]
  },
  {
   "cell_type": "markdown",
   "metadata": {},
   "source": [
    "# Feature Selection"
   ]
  },
  {
   "cell_type": "code",
   "execution_count": 84,
   "metadata": {},
   "outputs": [
    {
     "name": "stdout",
     "output_type": "stream",
     "text": [
      "[0.05663564 0.03103996 0.03321907 0.02159021 0.01817924 0.0209481\n",
      " 0.01855042 0.01668956 0.01799903 0.02429564 0.01900859 0.01813079\n",
      " 0.01630917 0.01869966 0.01852106 0.02310127 0.02028122 0.03254158\n",
      " 0.02053084 0.02215478 0.06528776 0.03871138 0.02402714 0.01985627\n",
      " 0.03444173 0.03716582 0.06429034 0.04512902 0.01927894 0.03873554\n",
      " 0.02989506 0.01763464 0.0183026  0.01516923 0.01489806 0.01416587\n",
      " 0.01533238 0.01925242]\n"
     ]
    },
    {
     "name": "stderr",
     "output_type": "stream",
     "text": [
      "C:\\Users\\anast\\Anaconda3\\lib\\site-packages\\sklearn\\ensemble\\forest.py:245: FutureWarning: The default value of n_estimators will change from 10 in version 0.20 to 100 in 0.22.\n",
      "  \"10 in version 0.20 to 100 in 0.22.\", FutureWarning)\n"
     ]
    },
    {
     "data": {
      "image/png": "[encoded data removed]",
      "text/plain": [
       "<Figure size 432x288 with 1 Axes>"
      ]
     },
     "metadata": {
      "needs_background": "light"
     },
     "output_type": "display_data"
    }
   ],
   "source": [
    "model = ExtraTreesClassifier()\n",
    "model.fit(X,y)\n",
    "print(model.feature_importances_) #use inbuilt class feature_importances of tree based classifiers\n",
    "#plot graph of feature importances for better visualization\n",
    "feat_importances = pd.Series(model.feature_importances_, index=X.columns)\n",
    "feat_importances.nlargest(10).plot(kind='barh')\n",
    "plt.show()"
   ]
  },
  {
   "cell_type": "markdown",
   "metadata": {},
   "source": [
    "# We see that mfcc and spectral_contrast seems to have a great impact on classification so we drop some features"
   ]
  },
  {
   "cell_type": "code",
   "execution_count": 86,
   "metadata": {},
   "outputs": [
    {
     "data": {
      "text/plain": [
       "Index(['mfcc.40', 'mfcc.41', 'mfcc.42', 'mfcc.43', 'mfcc.44', 'mfcc.45',\n",
       "       'mfcc.46', 'mfcc.47', 'mfcc.48', 'mfcc.49', 'mfcc.50', 'mfcc.51',\n",
       "       'mfcc.52', 'mfcc.53', 'mfcc.54', 'mfcc.55', 'mfcc.56', 'mfcc.57',\n",
       "       'mfcc.58', 'mfcc.59', 'rmse.2', 'spectral_bandwidth.2',\n",
       "       'spectral_centroid.2', 'spectral_contrast.14', 'spectral_contrast.15',\n",
       "       'spectral_contrast.16', 'spectral_contrast.17', 'spectral_contrast.18',\n",
       "       'spectral_contrast.19', 'spectral_contrast.20'],\n",
       "      dtype='object')"
      ]
     },
     "execution_count": 86,
     "metadata": {},
     "output_type": "execute_result"
    }
   ],
   "source": [
    "X=X.drop(X.loc[:,'spectral_rolloff.2':],axis=1)\n",
    "X.columns"
   ]
  },
  {
   "cell_type": "markdown",
   "metadata": {},
   "source": [
    "# Classifiers"
   ]
  },
  {
   "cell_type": "code",
   "execution_count": 87,
   "metadata": {},
   "outputs": [
    {
     "name": "stdout",
     "output_type": "stream",
     "text": [
      "0.6242500000000001\n"
     ]
    },
    {
     "data": {
      "text/plain": [
       "0.7367499999999999"
      ]
     },
     "execution_count": 87,
     "metadata": {},
     "output_type": "execute_result"
    }
   ],
   "source": [
    "from sklearn.model_selection import cross_val_score\n",
    "from sklearn.datasets import make_blobs\n",
    "from sklearn.ensemble import RandomForestClassifier\n",
    "from sklearn.ensemble import ExtraTreesClassifier\n",
    "from sklearn.tree import DecisionTreeClassifier\n",
    "from sklearn.model_selection import train_test_split\n",
    "from sklearn.metrics import confusion_matrix\n",
    "\n",
    "clf = DecisionTreeClassifier(max_depth=None, min_samples_split=2,random_state=0)\n",
    "scores = cross_val_score(clf, X, y, cv=10)\n",
    "print(scores.mean())\n",
    "\n",
    "clf = ExtraTreesClassifier(n_estimators=50, max_depth=None,min_samples_split=2, random_state=0)\n",
    "scores = cross_val_score(clf, X, y, cv=20)\n",
    "scores.mean()"
   ]
  },
  {
   "cell_type": "code",
   "execution_count": 88,
   "metadata": {},
   "outputs": [
    {
     "name": "stderr",
     "output_type": "stream",
     "text": [
      "C:\\Users\\anast\\Anaconda3\\lib\\site-packages\\sklearn\\linear_model\\logistic.py:432: FutureWarning: Default solver will be changed to 'lbfgs' in 0.22. Specify a solver to silence this warning.\n",
      "  FutureWarning)\n",
      "C:\\Users\\anast\\Anaconda3\\lib\\site-packages\\sklearn\\linear_model\\logistic.py:469: FutureWarning: Default multi_class will be changed to 'auto' in 0.22. Specify the multi_class option to silence this warning.\n",
      "  \"this warning.\", FutureWarning)\n",
      "C:\\Users\\anast\\Anaconda3\\lib\\site-packages\\sklearn\\linear_model\\logistic.py:432: FutureWarning: Default solver will be changed to 'lbfgs' in 0.22. Specify a solver to silence this warning.\n",
      "  FutureWarning)\n",
      "C:\\Users\\anast\\Anaconda3\\lib\\site-packages\\sklearn\\linear_model\\logistic.py:469: FutureWarning: Default multi_class will be changed to 'auto' in 0.22. Specify the multi_class option to silence this warning.\n",
      "  \"this warning.\", FutureWarning)\n",
      "C:\\Users\\anast\\Anaconda3\\lib\\site-packages\\sklearn\\linear_model\\logistic.py:432: FutureWarning: Default solver will be changed to 'lbfgs' in 0.22. Specify a solver to silence this warning.\n",
      "  FutureWarning)\n",
      "C:\\Users\\anast\\Anaconda3\\lib\\site-packages\\sklearn\\linear_model\\logistic.py:469: FutureWarning: Default multi_class will be changed to 'auto' in 0.22. Specify the multi_class option to silence this warning.\n",
      "  \"this warning.\", FutureWarning)\n",
      "C:\\Users\\anast\\Anaconda3\\lib\\site-packages\\sklearn\\linear_model\\logistic.py:432: FutureWarning: Default solver will be changed to 'lbfgs' in 0.22. Specify a solver to silence this warning.\n",
      "  FutureWarning)\n",
      "C:\\Users\\anast\\Anaconda3\\lib\\site-packages\\sklearn\\linear_model\\logistic.py:469: FutureWarning: Default multi_class will be changed to 'auto' in 0.22. Specify the multi_class option to silence this warning.\n",
      "  \"this warning.\", FutureWarning)\n",
      "C:\\Users\\anast\\Anaconda3\\lib\\site-packages\\sklearn\\linear_model\\logistic.py:432: FutureWarning: Default solver will be changed to 'lbfgs' in 0.22. Specify a solver to silence this warning.\n",
      "  FutureWarning)\n",
      "C:\\Users\\anast\\Anaconda3\\lib\\site-packages\\sklearn\\linear_model\\logistic.py:469: FutureWarning: Default multi_class will be changed to 'auto' in 0.22. Specify the multi_class option to silence this warning.\n",
      "  \"this warning.\", FutureWarning)\n"
     ]
    },
    {
     "name": "stdout",
     "output_type": "stream",
     "text": [
      "Accuracy: 0.71 (+/- 0.01) [Logistic Regression]\n",
      "Accuracy: 0.72 (+/- 0.01) [Random Forest]\n",
      "Accuracy: 0.68 (+/- 0.02) [naive Bayes]\n"
     ]
    },
    {
     "name": "stderr",
     "output_type": "stream",
     "text": [
      "C:\\Users\\anast\\Anaconda3\\lib\\site-packages\\sklearn\\linear_model\\logistic.py:432: FutureWarning: Default solver will be changed to 'lbfgs' in 0.22. Specify a solver to silence this warning.\n",
      "  FutureWarning)\n",
      "C:\\Users\\anast\\Anaconda3\\lib\\site-packages\\sklearn\\linear_model\\logistic.py:469: FutureWarning: Default multi_class will be changed to 'auto' in 0.22. Specify the multi_class option to silence this warning.\n",
      "  \"this warning.\", FutureWarning)\n",
      "C:\\Users\\anast\\Anaconda3\\lib\\site-packages\\sklearn\\linear_model\\logistic.py:432: FutureWarning: Default solver will be changed to 'lbfgs' in 0.22. Specify a solver to silence this warning.\n",
      "  FutureWarning)\n",
      "C:\\Users\\anast\\Anaconda3\\lib\\site-packages\\sklearn\\linear_model\\logistic.py:469: FutureWarning: Default multi_class will be changed to 'auto' in 0.22. Specify the multi_class option to silence this warning.\n",
      "  \"this warning.\", FutureWarning)\n",
      "C:\\Users\\anast\\Anaconda3\\lib\\site-packages\\sklearn\\linear_model\\logistic.py:432: FutureWarning: Default solver will be changed to 'lbfgs' in 0.22. Specify a solver to silence this warning.\n",
      "  FutureWarning)\n",
      "C:\\Users\\anast\\Anaconda3\\lib\\site-packages\\sklearn\\linear_model\\logistic.py:469: FutureWarning: Default multi_class will be changed to 'auto' in 0.22. Specify the multi_class option to silence this warning.\n",
      "  \"this warning.\", FutureWarning)\n",
      "C:\\Users\\anast\\Anaconda3\\lib\\site-packages\\sklearn\\linear_model\\logistic.py:432: FutureWarning: Default solver will be changed to 'lbfgs' in 0.22. Specify a solver to silence this warning.\n",
      "  FutureWarning)\n",
      "C:\\Users\\anast\\Anaconda3\\lib\\site-packages\\sklearn\\linear_model\\logistic.py:469: FutureWarning: Default multi_class will be changed to 'auto' in 0.22. Specify the multi_class option to silence this warning.\n",
      "  \"this warning.\", FutureWarning)\n",
      "C:\\Users\\anast\\Anaconda3\\lib\\site-packages\\sklearn\\linear_model\\logistic.py:432: FutureWarning: Default solver will be changed to 'lbfgs' in 0.22. Specify a solver to silence this warning.\n",
      "  FutureWarning)\n",
      "C:\\Users\\anast\\Anaconda3\\lib\\site-packages\\sklearn\\linear_model\\logistic.py:469: FutureWarning: Default multi_class will be changed to 'auto' in 0.22. Specify the multi_class option to silence this warning.\n",
      "  \"this warning.\", FutureWarning)\n"
     ]
    },
    {
     "name": "stdout",
     "output_type": "stream",
     "text": [
      "Accuracy: 0.72 (+/- 0.00) [Ensemble]\n"
     ]
    }
   ],
   "source": [
    "from sklearn.model_selection import cross_val_score\n",
    "from sklearn.linear_model import LogisticRegression\n",
    "from sklearn.naive_bayes import GaussianNB\n",
    "from sklearn.ensemble import RandomForestClassifier\n",
    "from sklearn.ensemble import VotingClassifier\n",
    "\n",
    "clf1 = LogisticRegression(random_state=1)\n",
    "clf2 = RandomForestClassifier(n_estimators=50, random_state=1)\n",
    "clf3 = GaussianNB()\n",
    "\n",
    "eclf = VotingClassifier(estimators=[('lr', clf1), ('rf', clf2), ('gnb', clf3)],voting='hard')\n",
    "\n",
    "for clf, label in zip([clf1, clf2, clf3, eclf], ['Logistic Regression', 'Random Forest', 'naive Bayes', 'Ensemble']):\n",
    "    scores = cross_val_score(clf, X, y, scoring='accuracy', cv=5)\n",
    "    print(\"Accuracy: %0.2f (+/- %0.2f) [%s]\" % (scores.mean(), scores.std(), label))"
   ]
  },
  {
   "cell_type": "markdown",
   "metadata": {},
   "source": [
    "# Dataset with echonest and features "
   ]
  },
  {
   "cell_type": "code",
   "execution_count": 68,
   "metadata": {
    "scrolled": true
   },
   "outputs": [
    {
     "data": {
      "text/plain": [
       "Rock                   2085\n",
       "Electronic             1186\n",
       "Hip-Hop                 422\n",
       "Folk                    382\n",
       "Pop                     212\n",
       "Jazz                    143\n",
       "Classical               105\n",
       "International            64\n",
       "Old-Time / Historic      62\n",
       "Instrumental             48\n",
       "Blues                    17\n",
       "Experimental             17\n",
       "Name: genre_top, dtype: int64"
      ]
     },
     "execution_count": 68,
     "metadata": {},
     "output_type": "execute_result"
    }
   ],
   "source": [
    "echo_test=echo.loc[:,:'valence']\n",
    "echo_test=echo_test.merge(tracks[['track_id','genre_top']],on='track_id',how='inner')\n",
    "echo_test=echo_test.merge(desired_feat,on='track_id',how='inner')\n",
    "echo_test['genre_top'].value_counts()"
   ]
  },
  {
   "cell_type": "code",
   "execution_count": 54,
   "metadata": {},
   "outputs": [],
   "source": [
    "y=echo_test['genre_top']\n",
    "X=echo_test.loc[:,'acousticness':]"
   ]
  },
  {
   "cell_type": "code",
   "execution_count": null,
   "metadata": {},
   "outputs": [],
   "source": []
  }
 ],
 "metadata": {
  "kernelspec": {
   "display_name": "Python 3",
   "language": "python",
   "name": "python3"
  },
  "language_info": {
   "codemirror_mode": {
    "name": "ipython",
    "version": 3
   },
   "file_extension": ".py",
   "mimetype": "text/x-python",
   "name": "python",
   "nbconvert_exporter": "python",
   "pygments_lexer": "ipython3",
   "version": "3.7.3"
  }
 },
 "nbformat": 4,
 "nbformat_minor": 2
}
